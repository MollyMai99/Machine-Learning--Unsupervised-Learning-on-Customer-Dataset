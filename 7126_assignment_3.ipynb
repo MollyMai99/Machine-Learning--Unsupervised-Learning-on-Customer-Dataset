{
  "nbformat": 4,
  "nbformat_minor": 0,
  "metadata": {
    "colab": {
      "provenance": []
    },
    "kernelspec": {
      "name": "python3",
      "display_name": "Python 3"
    },
    "language_info": {
      "name": "python"
    }
  },
  "cells": [
    {
      "cell_type": "markdown",
      "source": [
        "Importing the Dependencies"
      ],
      "metadata": {
        "id": "YzACt7bWTGvR"
      }
    },
    {
      "cell_type": "code",
      "execution_count": 243,
      "metadata": {
        "id": "2SgmcKpGjOAi"
      },
      "outputs": [],
      "source": [
        "import pandas as pd\n",
        "import numpy as np\n",
        "import matplotlib.pyplot as plt\n",
        "import seaborn as sns\n",
        "from sklearn.cluster import KMeans\n",
        "from sklearn.preprocessing import MinMaxScaler"
      ]
    },
    {
      "cell_type": "markdown",
      "source": [
        "Data Collection & Analysis"
      ],
      "metadata": {
        "id": "yMnwaTy2TQKR"
      }
    },
    {
      "cell_type": "code",
      "source": [
        "##loadong the data from csv file to a Pandas Dataframe\n",
        "customer_data = pd.read_csv('CustomerDataset.csv')\n",
        "\n",
        "##first 5 rows in the dataframe\n",
        "customer_data.head()"
      ],
      "metadata": {
        "colab": {
          "base_uri": "https://localhost:8080/",
          "height": 206
        },
        "id": "8Ao48MiyTPtt",
        "outputId": "17a0e837-47b1-42b8-aae0-13a2cc8239c8"
      },
      "execution_count": 244,
      "outputs": [
        {
          "output_type": "execute_result",
          "data": {
            "text/plain": [
              "   CustomerID  Gender  Age  Income  SpendingScore\n",
              "0           1  Female   29     499             85\n",
              "1           2  Female   21     208             81\n",
              "2           3  Female   27     300             48\n",
              "3           4  Female   26     458             29\n",
              "4           5    Male   57     221              4"
            ],
            "text/html": [
              "\n",
              "  <div id=\"df-1b0f5eca-3810-4321-a524-32c98abcbcf4\">\n",
              "    <div class=\"colab-df-container\">\n",
              "      <div>\n",
              "<style scoped>\n",
              "    .dataframe tbody tr th:only-of-type {\n",
              "        vertical-align: middle;\n",
              "    }\n",
              "\n",
              "    .dataframe tbody tr th {\n",
              "        vertical-align: top;\n",
              "    }\n",
              "\n",
              "    .dataframe thead th {\n",
              "        text-align: right;\n",
              "    }\n",
              "</style>\n",
              "<table border=\"1\" class=\"dataframe\">\n",
              "  <thead>\n",
              "    <tr style=\"text-align: right;\">\n",
              "      <th></th>\n",
              "      <th>CustomerID</th>\n",
              "      <th>Gender</th>\n",
              "      <th>Age</th>\n",
              "      <th>Income</th>\n",
              "      <th>SpendingScore</th>\n",
              "    </tr>\n",
              "  </thead>\n",
              "  <tbody>\n",
              "    <tr>\n",
              "      <th>0</th>\n",
              "      <td>1</td>\n",
              "      <td>Female</td>\n",
              "      <td>29</td>\n",
              "      <td>499</td>\n",
              "      <td>85</td>\n",
              "    </tr>\n",
              "    <tr>\n",
              "      <th>1</th>\n",
              "      <td>2</td>\n",
              "      <td>Female</td>\n",
              "      <td>21</td>\n",
              "      <td>208</td>\n",
              "      <td>81</td>\n",
              "    </tr>\n",
              "    <tr>\n",
              "      <th>2</th>\n",
              "      <td>3</td>\n",
              "      <td>Female</td>\n",
              "      <td>27</td>\n",
              "      <td>300</td>\n",
              "      <td>48</td>\n",
              "    </tr>\n",
              "    <tr>\n",
              "      <th>3</th>\n",
              "      <td>4</td>\n",
              "      <td>Female</td>\n",
              "      <td>26</td>\n",
              "      <td>458</td>\n",
              "      <td>29</td>\n",
              "    </tr>\n",
              "    <tr>\n",
              "      <th>4</th>\n",
              "      <td>5</td>\n",
              "      <td>Male</td>\n",
              "      <td>57</td>\n",
              "      <td>221</td>\n",
              "      <td>4</td>\n",
              "    </tr>\n",
              "  </tbody>\n",
              "</table>\n",
              "</div>\n",
              "      <button class=\"colab-df-convert\" onclick=\"convertToInteractive('df-1b0f5eca-3810-4321-a524-32c98abcbcf4')\"\n",
              "              title=\"Convert this dataframe to an interactive table.\"\n",
              "              style=\"display:none;\">\n",
              "        \n",
              "  <svg xmlns=\"http://www.w3.org/2000/svg\" height=\"24px\"viewBox=\"0 0 24 24\"\n",
              "       width=\"24px\">\n",
              "    <path d=\"M0 0h24v24H0V0z\" fill=\"none\"/>\n",
              "    <path d=\"M18.56 5.44l.94 2.06.94-2.06 2.06-.94-2.06-.94-.94-2.06-.94 2.06-2.06.94zm-11 1L8.5 8.5l.94-2.06 2.06-.94-2.06-.94L8.5 2.5l-.94 2.06-2.06.94zm10 10l.94 2.06.94-2.06 2.06-.94-2.06-.94-.94-2.06-.94 2.06-2.06.94z\"/><path d=\"M17.41 7.96l-1.37-1.37c-.4-.4-.92-.59-1.43-.59-.52 0-1.04.2-1.43.59L10.3 9.45l-7.72 7.72c-.78.78-.78 2.05 0 2.83L4 21.41c.39.39.9.59 1.41.59.51 0 1.02-.2 1.41-.59l7.78-7.78 2.81-2.81c.8-.78.8-2.07 0-2.86zM5.41 20L4 18.59l7.72-7.72 1.47 1.35L5.41 20z\"/>\n",
              "  </svg>\n",
              "      </button>\n",
              "      \n",
              "  <style>\n",
              "    .colab-df-container {\n",
              "      display:flex;\n",
              "      flex-wrap:wrap;\n",
              "      gap: 12px;\n",
              "    }\n",
              "\n",
              "    .colab-df-convert {\n",
              "      background-color: #E8F0FE;\n",
              "      border: none;\n",
              "      border-radius: 50%;\n",
              "      cursor: pointer;\n",
              "      display: none;\n",
              "      fill: #1967D2;\n",
              "      height: 32px;\n",
              "      padding: 0 0 0 0;\n",
              "      width: 32px;\n",
              "    }\n",
              "\n",
              "    .colab-df-convert:hover {\n",
              "      background-color: #E2EBFA;\n",
              "      box-shadow: 0px 1px 2px rgba(60, 64, 67, 0.3), 0px 1px 3px 1px rgba(60, 64, 67, 0.15);\n",
              "      fill: #174EA6;\n",
              "    }\n",
              "\n",
              "    [theme=dark] .colab-df-convert {\n",
              "      background-color: #3B4455;\n",
              "      fill: #D2E3FC;\n",
              "    }\n",
              "\n",
              "    [theme=dark] .colab-df-convert:hover {\n",
              "      background-color: #434B5C;\n",
              "      box-shadow: 0px 1px 3px 1px rgba(0, 0, 0, 0.15);\n",
              "      filter: drop-shadow(0px 1px 2px rgba(0, 0, 0, 0.3));\n",
              "      fill: #FFFFFF;\n",
              "    }\n",
              "  </style>\n",
              "\n",
              "      <script>\n",
              "        const buttonEl =\n",
              "          document.querySelector('#df-1b0f5eca-3810-4321-a524-32c98abcbcf4 button.colab-df-convert');\n",
              "        buttonEl.style.display =\n",
              "          google.colab.kernel.accessAllowed ? 'block' : 'none';\n",
              "\n",
              "        async function convertToInteractive(key) {\n",
              "          const element = document.querySelector('#df-1b0f5eca-3810-4321-a524-32c98abcbcf4');\n",
              "          const dataTable =\n",
              "            await google.colab.kernel.invokeFunction('convertToInteractive',\n",
              "                                                     [key], {});\n",
              "          if (!dataTable) return;\n",
              "\n",
              "          const docLinkHtml = 'Like what you see? Visit the ' +\n",
              "            '<a target=\"_blank\" href=https://colab.research.google.com/notebooks/data_table.ipynb>data table notebook</a>'\n",
              "            + ' to learn more about interactive tables.';\n",
              "          element.innerHTML = '';\n",
              "          dataTable['output_type'] = 'display_data';\n",
              "          await google.colab.output.renderOutput(dataTable, element);\n",
              "          const docLink = document.createElement('div');\n",
              "          docLink.innerHTML = docLinkHtml;\n",
              "          element.appendChild(docLink);\n",
              "        }\n",
              "      </script>\n",
              "    </div>\n",
              "  </div>\n",
              "  "
            ]
          },
          "metadata": {},
          "execution_count": 244
        }
      ]
    },
    {
      "cell_type": "code",
      "source": [
        "##finding the nember of rows and columns\n",
        "customer_data.shape"
      ],
      "metadata": {
        "colab": {
          "base_uri": "https://localhost:8080/"
        },
        "id": "BlvycWR9qGFM",
        "outputId": "01f994ed-f501-4a91-fa5f-156144dcbe22"
      },
      "execution_count": 245,
      "outputs": [
        {
          "output_type": "execute_result",
          "data": {
            "text/plain": [
              "(200, 5)"
            ]
          },
          "metadata": {},
          "execution_count": 245
        }
      ]
    },
    {
      "cell_type": "code",
      "source": [
        "##getting some informations about the dataset\n",
        "customer_data.info()"
      ],
      "metadata": {
        "colab": {
          "base_uri": "https://localhost:8080/"
        },
        "id": "8O4fyRrGlLzJ",
        "outputId": "647ddaf1-d035-4669-9d76-69e8ae104991"
      },
      "execution_count": 246,
      "outputs": [
        {
          "output_type": "stream",
          "name": "stdout",
          "text": [
            "<class 'pandas.core.frame.DataFrame'>\n",
            "RangeIndex: 200 entries, 0 to 199\n",
            "Data columns (total 5 columns):\n",
            " #   Column         Non-Null Count  Dtype \n",
            "---  ------         --------------  ----- \n",
            " 0   CustomerID     200 non-null    int64 \n",
            " 1   Gender         200 non-null    object\n",
            " 2   Age            200 non-null    int64 \n",
            " 3   Income         200 non-null    int64 \n",
            " 4   SpendingScore  200 non-null    int64 \n",
            "dtypes: int64(4), object(1)\n",
            "memory usage: 7.9+ KB\n"
          ]
        }
      ]
    },
    {
      "cell_type": "code",
      "source": [
        "##checking for missing values\n",
        "customer_data.isnull().sum()\n"
      ],
      "metadata": {
        "colab": {
          "base_uri": "https://localhost:8080/"
        },
        "id": "UZ_-xlZoltOX",
        "outputId": "11c10103-133d-4785-93a7-88e23ea4d338"
      },
      "execution_count": 247,
      "outputs": [
        {
          "output_type": "execute_result",
          "data": {
            "text/plain": [
              "CustomerID       0\n",
              "Gender           0\n",
              "Age              0\n",
              "Income           0\n",
              "SpendingScore    0\n",
              "dtype: int64"
            ]
          },
          "metadata": {},
          "execution_count": 247
        }
      ]
    },
    {
      "cell_type": "markdown",
      "source": [
        "Choosing the Annual Income & Spending Score"
      ],
      "metadata": {
        "id": "rwmg-YouUylG"
      }
    },
    {
      "cell_type": "code",
      "source": [
        "X =customer_data.iloc[:,[3,4]].values"
      ],
      "metadata": {
        "id": "LwaL9vkZqRex"
      },
      "execution_count": 248,
      "outputs": []
    },
    {
      "cell_type": "code",
      "source": [
        "print(X)"
      ],
      "metadata": {
        "colab": {
          "base_uri": "https://localhost:8080/"
        },
        "id": "bK6WDHQIVN2C",
        "outputId": "75a7514a-8a11-48f0-e2ea-9ee46415aeb4"
      },
      "execution_count": 249,
      "outputs": [
        {
          "output_type": "stream",
          "name": "stdout",
          "text": [
            "[[499  85]\n",
            " [208  81]\n",
            " [300  48]\n",
            " [458  29]\n",
            " [221   4]\n",
            " [304  53]\n",
            " [671  68]\n",
            " [493  97]\n",
            " [446  36]\n",
            " [135  68]\n",
            " [401  49]\n",
            " [328  39]\n",
            " [418  44]\n",
            " [186  88]\n",
            " [432  63]\n",
            " [256  30]\n",
            " [283  48]\n",
            " [489  17]\n",
            " [311  59]\n",
            " [468   4]\n",
            " [556  17]\n",
            " [504  21]\n",
            " [346  53]\n",
            " [144  98]\n",
            " [633  30]\n",
            " [533   9]\n",
            " [434  42]\n",
            " [668  85]\n",
            " [194  19]\n",
            " [505  79]\n",
            " [414  43]\n",
            " [819  26]\n",
            " [123  14]\n",
            " [209  92]\n",
            " [368  56]\n",
            " [427  55]\n",
            " [438  96]\n",
            " [246  41]\n",
            " [884  22]\n",
            " [315  55]\n",
            " [570  13]\n",
            " [497  78]\n",
            " [158  29]\n",
            " [388  51]\n",
            " [507   1]\n",
            " [630  92]\n",
            " [347  41]\n",
            " [409  50]\n",
            " [262  45]\n",
            " [578  90]\n",
            " [579  15]\n",
            " [299  53]\n",
            " [512  22]\n",
            " [499   5]\n",
            " [122  92]\n",
            " [384  49]\n",
            " [315  47]\n",
            " [115  99]\n",
            " [339  38]\n",
            " [525  93]\n",
            " [253  51]\n",
            " [363  48]\n",
            " [290  42]\n",
            " [342  52]\n",
            " [487  94]\n",
            " [ 95  81]\n",
            " [491  67]\n",
            " [896  82]\n",
            " [417  42]\n",
            " [279  65]\n",
            " [453  58]\n",
            " [390  47]\n",
            " [130  72]\n",
            " [397  48]\n",
            " [405  54]\n",
            " [297  50]\n",
            " [653  64]\n",
            " [510  79]\n",
            " [402  48]\n",
            " [133  10]\n",
            " [412  44]\n",
            " [631  86]\n",
            " [785  79]\n",
            " [409  59]\n",
            " [250  75]\n",
            " [563  69]\n",
            " [252  39]\n",
            " [ 93  11]\n",
            " [617  90]\n",
            " [773  11]\n",
            " [481   7]\n",
            " [617  18]\n",
            " [401  49]\n",
            " [665  20]\n",
            " [252  31]\n",
            " [388  50]\n",
            " [434  56]\n",
            " [104  81]\n",
            " [225  10]\n",
            " [311  57]\n",
            " [120  37]\n",
            " [368  65]\n",
            " [175  86]\n",
            " [193  31]\n",
            " [470  80]\n",
            " [125  15]\n",
            " [389  41]\n",
            " [284  48]\n",
            " [145  35]\n",
            " [383  54]\n",
            " [107  10]\n",
            " [279  44]\n",
            " [159  73]\n",
            " [219  15]\n",
            " [484  40]\n",
            " [319  60]\n",
            " [519  82]\n",
            " [502  21]\n",
            " [496  90]\n",
            " [272  57]\n",
            " [311  41]\n",
            " [461  75]\n",
            " [509   2]\n",
            " [465  73]\n",
            " [726   8]\n",
            " [519  36]\n",
            " [362  47]\n",
            " [484  83]\n",
            " [306  43]\n",
            " [487   8]\n",
            " [191  69]\n",
            " [191   5]\n",
            " [134  33]\n",
            " [463  73]\n",
            " [383  52]\n",
            " [646  15]\n",
            " [113   3]\n",
            " [381  39]\n",
            " [507  74]\n",
            " [379  55]\n",
            " [250  21]\n",
            " [127  77]\n",
            " [401  43]\n",
            " [359  60]\n",
            " [466  37]\n",
            " [148  76]\n",
            " [403  56]\n",
            " [400  55]\n",
            " [538  70]\n",
            " [399  50]\n",
            " [110  77]\n",
            " [462  35]\n",
            " [244  61]\n",
            " [652  22]\n",
            " [522  21]\n",
            " [339  46]\n",
            " [574  10]\n",
            " [343  51]\n",
            " [511  86]\n",
            " [176  61]\n",
            " [640  98]\n",
            " [354  53]\n",
            " [549  28]\n",
            " [568  92]\n",
            " [459  12]\n",
            " [400  40]\n",
            " [734  90]\n",
            " [574  67]\n",
            " [492  85]\n",
            " [403  52]\n",
            " [468  77]\n",
            " [501  38]\n",
            " [248  68]\n",
            " [223  76]\n",
            " [250  89]\n",
            " [314  52]\n",
            " [564  16]\n",
            " [574  27]\n",
            " [411  46]\n",
            " [266  55]\n",
            " [630  44]\n",
            " [804  79]\n",
            " [289  50]\n",
            " [457  93]\n",
            " [166   5]\n",
            " [357  55]\n",
            " [467   9]\n",
            " [571  95]\n",
            " [331  55]\n",
            " [110  39]\n",
            " [189  32]\n",
            " [306  58]\n",
            " [412  52]\n",
            " [315  56]\n",
            " [568  74]\n",
            " [677  26]\n",
            " [128  77]\n",
            " [318  48]\n",
            " [386  45]\n",
            " [355  47]]\n"
          ]
        }
      ]
    },
    {
      "cell_type": "code",
      "source": [
        "plt.scatter(customer_data['Income'],customer_data['SpendingScore'])"
      ],
      "metadata": {
        "colab": {
          "base_uri": "https://localhost:8080/",
          "height": 451
        },
        "id": "z3vaiE9D10mC",
        "outputId": "69ac3758-44f5-4036-e84b-d978a88e0bfd"
      },
      "execution_count": 250,
      "outputs": [
        {
          "output_type": "execute_result",
          "data": {
            "text/plain": [
              "<matplotlib.collections.PathCollection at 0x7f21dc4f86d0>"
            ]
          },
          "metadata": {},
          "execution_count": 250
        },
        {
          "output_type": "display_data",
          "data": {
            "text/plain": [
              "<Figure size 640x480 with 1 Axes>"
            ],
            "image/png": "[encoded data removed]"
          },
          "metadata": {}
        }
      ]
    },
    {
      "cell_type": "markdown",
      "source": [
        "Scalering Dataset"
      ],
      "metadata": {
        "id": "pzofH1mR8hXA"
      }
    },
    {
      "cell_type": "code",
      "source": [
        "scaler=MinMaxScaler()\n",
        "scaler.fit(X)\n",
        "X=scaler.transform(X)"
      ],
      "metadata": {
        "id": "omYttXnQ5FTZ"
      },
      "execution_count": 251,
      "outputs": []
    },
    {
      "cell_type": "code",
      "source": [
        "print(X)"
      ],
      "metadata": {
        "colab": {
          "base_uri": "https://localhost:8080/"
        },
        "id": "uEnU4l4q7h37",
        "outputId": "a25ef896-9f2f-4440-da00-77dffce221ab"
      },
      "execution_count": 252,
      "outputs": [
        {
          "output_type": "stream",
          "name": "stdout",
          "text": [
            "[[0.50560399 0.85714286]\n",
            " [0.14321295 0.81632653]\n",
            " [0.25778331 0.47959184]\n",
            " [0.45454545 0.28571429]\n",
            " [0.15940224 0.03061224]\n",
            " [0.26276463 0.53061224]\n",
            " [0.71980075 0.68367347]\n",
            " [0.498132   0.97959184]\n",
            " [0.43960149 0.35714286]\n",
            " [0.05230386 0.68367347]\n",
            " [0.38356164 0.48979592]\n",
            " [0.29265255 0.3877551 ]\n",
            " [0.40473225 0.43877551]\n",
            " [0.11581569 0.8877551 ]\n",
            " [0.42216687 0.63265306]\n",
            " [0.20298879 0.29591837]\n",
            " [0.2366127  0.47959184]\n",
            " [0.49315068 0.16326531]\n",
            " [0.27148194 0.59183673]\n",
            " [0.46699875 0.03061224]\n",
            " [0.5765878  0.16326531]\n",
            " [0.51183064 0.20408163]\n",
            " [0.31506849 0.53061224]\n",
            " [0.06351183 0.98979592]\n",
            " [0.67247821 0.29591837]\n",
            " [0.54794521 0.08163265]\n",
            " [0.42465753 0.41836735]\n",
            " [0.71606476 0.85714286]\n",
            " [0.12577833 0.18367347]\n",
            " [0.51307597 0.79591837]\n",
            " [0.39975093 0.42857143]\n",
            " [0.90410959 0.25510204]\n",
            " [0.0373599  0.13265306]\n",
            " [0.14445828 0.92857143]\n",
            " [0.34246575 0.56122449]\n",
            " [0.41594022 0.55102041]\n",
            " [0.42963885 0.96938776]\n",
            " [0.19053549 0.40816327]\n",
            " [0.98505604 0.21428571]\n",
            " [0.27646326 0.55102041]\n",
            " [0.59402242 0.12244898]\n",
            " [0.50311333 0.78571429]\n",
            " [0.08094645 0.28571429]\n",
            " [0.36737235 0.51020408]\n",
            " [0.51556663 0.        ]\n",
            " [0.66874222 0.92857143]\n",
            " [0.31631382 0.40816327]\n",
            " [0.39352428 0.5       ]\n",
            " [0.21046077 0.44897959]\n",
            " [0.60398506 0.90816327]\n",
            " [0.60523039 0.14285714]\n",
            " [0.25653798 0.53061224]\n",
            " [0.52179328 0.21428571]\n",
            " [0.50560399 0.04081633]\n",
            " [0.03611457 0.92857143]\n",
            " [0.36239103 0.48979592]\n",
            " [0.27646326 0.46938776]\n",
            " [0.02739726 1.        ]\n",
            " [0.30635118 0.37755102]\n",
            " [0.53798257 0.93877551]\n",
            " [0.1992528  0.51020408]\n",
            " [0.3362391  0.47959184]\n",
            " [0.24533001 0.41836735]\n",
            " [0.31008717 0.52040816]\n",
            " [0.49066002 0.94897959]\n",
            " [0.00249066 0.81632653]\n",
            " [0.49564134 0.67346939]\n",
            " [1.         0.82653061]\n",
            " [0.40348692 0.41836735]\n",
            " [0.23163138 0.65306122]\n",
            " [0.4483188  0.58163265]\n",
            " [0.36986301 0.46938776]\n",
            " [0.04607721 0.7244898 ]\n",
            " [0.37858032 0.47959184]\n",
            " [0.38854296 0.54081633]\n",
            " [0.25404732 0.5       ]\n",
            " [0.69738481 0.64285714]\n",
            " [0.51930262 0.79591837]\n",
            " [0.38480697 0.47959184]\n",
            " [0.0498132  0.09183673]\n",
            " [0.39726027 0.43877551]\n",
            " [0.66998755 0.86734694]\n",
            " [0.86176837 0.79591837]\n",
            " [0.39352428 0.59183673]\n",
            " [0.19551681 0.75510204]\n",
            " [0.58530511 0.69387755]\n",
            " [0.19800747 0.3877551 ]\n",
            " [0.         0.10204082]\n",
            " [0.65255293 0.90816327]\n",
            " [0.84682441 0.10204082]\n",
            " [0.48318804 0.06122449]\n",
            " [0.65255293 0.17346939]\n",
            " [0.38356164 0.48979592]\n",
            " [0.71232877 0.19387755]\n",
            " [0.19800747 0.30612245]\n",
            " [0.36737235 0.5       ]\n",
            " [0.42465753 0.56122449]\n",
            " [0.01369863 0.81632653]\n",
            " [0.16438356 0.09183673]\n",
            " [0.27148194 0.57142857]\n",
            " [0.03362391 0.36734694]\n",
            " [0.34246575 0.65306122]\n",
            " [0.10211706 0.86734694]\n",
            " [0.124533   0.30612245]\n",
            " [0.46948941 0.80612245]\n",
            " [0.03985056 0.14285714]\n",
            " [0.36861768 0.40816327]\n",
            " [0.23785803 0.47959184]\n",
            " [0.06475716 0.34693878]\n",
            " [0.3611457  0.54081633]\n",
            " [0.01743462 0.09183673]\n",
            " [0.23163138 0.43877551]\n",
            " [0.08219178 0.73469388]\n",
            " [0.15691158 0.14285714]\n",
            " [0.48692403 0.39795918]\n",
            " [0.28144458 0.60204082]\n",
            " [0.53051059 0.82653061]\n",
            " [0.50933998 0.20408163]\n",
            " [0.501868   0.90816327]\n",
            " [0.22291407 0.57142857]\n",
            " [0.27148194 0.40816327]\n",
            " [0.45828144 0.75510204]\n",
            " [0.51805729 0.01020408]\n",
            " [0.46326276 0.73469388]\n",
            " [0.7882939  0.07142857]\n",
            " [0.53051059 0.35714286]\n",
            " [0.33499377 0.46938776]\n",
            " [0.48692403 0.83673469]\n",
            " [0.26525529 0.42857143]\n",
            " [0.49066002 0.07142857]\n",
            " [0.12204234 0.69387755]\n",
            " [0.12204234 0.04081633]\n",
            " [0.05105853 0.32653061]\n",
            " [0.4607721  0.73469388]\n",
            " [0.3611457  0.52040816]\n",
            " [0.6886675  0.14285714]\n",
            " [0.0249066  0.02040816]\n",
            " [0.35865504 0.3877551 ]\n",
            " [0.51556663 0.74489796]\n",
            " [0.35616438 0.55102041]\n",
            " [0.19551681 0.20408163]\n",
            " [0.04234122 0.7755102 ]\n",
            " [0.38356164 0.42857143]\n",
            " [0.33125778 0.60204082]\n",
            " [0.46450809 0.36734694]\n",
            " [0.06849315 0.76530612]\n",
            " [0.3860523  0.56122449]\n",
            " [0.38231631 0.55102041]\n",
            " [0.55417186 0.70408163]\n",
            " [0.38107098 0.5       ]\n",
            " [0.02117061 0.7755102 ]\n",
            " [0.45952677 0.34693878]\n",
            " [0.18804483 0.6122449 ]\n",
            " [0.69613948 0.21428571]\n",
            " [0.53424658 0.20408163]\n",
            " [0.30635118 0.45918367]\n",
            " [0.59900374 0.09183673]\n",
            " [0.3113325  0.51020408]\n",
            " [0.52054795 0.86734694]\n",
            " [0.10336239 0.6122449 ]\n",
            " [0.68119552 0.98979592]\n",
            " [0.32503113 0.53061224]\n",
            " [0.56787049 0.2755102 ]\n",
            " [0.59153176 0.92857143]\n",
            " [0.45579078 0.1122449 ]\n",
            " [0.38231631 0.39795918]\n",
            " [0.79825654 0.90816327]\n",
            " [0.59900374 0.67346939]\n",
            " [0.49688667 0.85714286]\n",
            " [0.3860523  0.52040816]\n",
            " [0.46699875 0.7755102 ]\n",
            " [0.50809465 0.37755102]\n",
            " [0.19302615 0.68367347]\n",
            " [0.1618929  0.76530612]\n",
            " [0.19551681 0.89795918]\n",
            " [0.27521793 0.52040816]\n",
            " [0.58655044 0.15306122]\n",
            " [0.59900374 0.26530612]\n",
            " [0.39601494 0.45918367]\n",
            " [0.21544209 0.55102041]\n",
            " [0.66874222 0.43877551]\n",
            " [0.88542964 0.79591837]\n",
            " [0.24408468 0.5       ]\n",
            " [0.45330012 0.93877551]\n",
            " [0.09090909 0.04081633]\n",
            " [0.32876712 0.55102041]\n",
            " [0.46575342 0.08163265]\n",
            " [0.59526775 0.95918367]\n",
            " [0.29638854 0.55102041]\n",
            " [0.02117061 0.3877551 ]\n",
            " [0.11955168 0.31632653]\n",
            " [0.26525529 0.58163265]\n",
            " [0.39726027 0.52040816]\n",
            " [0.27646326 0.56122449]\n",
            " [0.59153176 0.74489796]\n",
            " [0.72727273 0.25510204]\n",
            " [0.04358655 0.7755102 ]\n",
            " [0.28019925 0.47959184]\n",
            " [0.36488169 0.44897959]\n",
            " [0.32627646 0.46938776]]\n"
          ]
        }
      ]
    },
    {
      "cell_type": "markdown",
      "source": [
        "Choosing the number of clusters"
      ],
      "metadata": {
        "id": "JzBWERz4Va_z"
      }
    },
    {
      "cell_type": "code",
      "source": [
        "##finding wcss value for different number of clusters\n",
        "\n",
        "wcss=[]\n",
        "\n",
        "for i in range(1,11):\n",
        "  kmeans=KMeans(n_clusters=i, init='k-means++',n_init='auto',random_state=42)\n",
        "  kmeans.fit(X)\n",
        "\n",
        "  wcss.append(kmeans.inertia_)"
      ],
      "metadata": {
        "id": "z8Vp7MghVVBY"
      },
      "execution_count": 253,
      "outputs": []
    },
    {
      "cell_type": "code",
      "source": [
        "##plot an elbow graph\n",
        "\n",
        "sns.set()\n",
        "plt.plot(range(1,11),wcss)\n",
        "plt.title('The Elbow Point Graph')\n",
        "plt.xlabel('Number of Clusters')\n",
        "plt.ylabel('WCSS')\n",
        "plt.show"
      ],
      "metadata": {
        "colab": {
          "base_uri": "https://localhost:8080/",
          "height": 497
        },
        "id": "vUoJbqWYl13x",
        "outputId": "3a036cac-7ced-430c-f0b8-42fff9f89e8f"
      },
      "execution_count": 254,
      "outputs": [
        {
          "output_type": "execute_result",
          "data": {
            "text/plain": [
              "<function matplotlib.pyplot.show(close=None, block=None)>"
            ]
          },
          "metadata": {},
          "execution_count": 254
        },
        {
          "output_type": "display_data",
          "data": {
            "text/plain": [
              "<Figure size 640x480 with 1 Axes>"
            ],
            "image/png": "[encoded data removed]"
          },
          "metadata": {}
        }
      ]
    },
    {
      "cell_type": "markdown",
      "source": [
        "Opimum Number of Clusters=5"
      ],
      "metadata": {
        "id": "2VmKEoa3Xqva"
      }
    },
    {
      "cell_type": "markdown",
      "source": [
        "Training the k-Means Clustering Model"
      ],
      "metadata": {
        "id": "uRcPcnuYXwXK"
      }
    },
    {
      "cell_type": "code",
      "source": [
        "kmeans=KMeans(n_clusters=5,init='k-means++',n_init = 'auto',random_state=0)\n",
        "\n",
        "#return a label for each data point based on their cluster\n",
        "Y=kmeans.fit_predict(X)\n",
        "\n",
        "print(Y)"
      ],
      "metadata": {
        "colab": {
          "base_uri": "https://localhost:8080/"
        },
        "id": "EWxneLvKXoKJ",
        "outputId": "4de251c3-64e7-4265-b825-cdcc016a125c"
      },
      "execution_count": 255,
      "outputs": [
        {
          "output_type": "stream",
          "name": "stdout",
          "text": [
            "[2 0 1 3 4 1 2 2 1 0 1 1 1 0 1 4 1 3 1 3 3 3 1 0 3 3 1 2 4 2 1 3 4 0 1 1 2\n",
            " 1 3 1 3 2 4 1 3 2 1 1 1 2 3 1 3 3 0 1 1 0 1 2 1 1 1 1 2 0 2 2 1 1 1 1 0 1\n",
            " 1 1 2 2 1 4 1 2 2 1 0 2 1 4 2 3 3 3 1 3 4 1 1 0 4 1 4 1 0 4 2 4 1 1 4 1 4\n",
            " 1 0 4 1 1 2 3 2 1 1 2 3 2 3 3 1 2 1 3 0 4 4 2 1 3 4 1 2 1 4 0 1 1 1 0 1 1\n",
            " 2 1 0 1 1 3 3 1 3 1 2 0 2 1 3 2 3 1 2 2 2 1 2 1 0 0 0 1 3 3 1 1 3 2 1 2 4\n",
            " 1 3 2 1 4 4 1 1 1 2 3 0 1 1 1]\n"
          ]
        }
      ]
    },
    {
      "cell_type": "markdown",
      "source": [
        "Visualizing all the Clusters"
      ],
      "metadata": {
        "id": "n6vsgXmNditG"
      }
    },
    {
      "cell_type": "code",
      "source": [
        "##plotting all the clusters and their centroids\n",
        "\n",
        "plt.figure(figsize=(8,8))\n",
        "plt.scatter(X[Y==0,0],X[Y==0,1],s=50,c='green',label='Cluter 1')\n",
        "plt.scatter(X[Y==1,0],X[Y==1,1],s=50,c='blue',label='Cluter 2')\n",
        "plt.scatter(X[Y==2,0],X[Y==2,1],s=50,c='pink',label='Cluter 3')\n",
        "plt.scatter(X[Y==3,0],X[Y==3,1],s=50,c='red',label='Cluter 4')\n",
        "plt.scatter(X[Y==4,0],X[Y==4,1],s=50,c='purple',label='Cluter 5')\n",
        "\n",
        "##plot the centroids\n",
        "plt.scatter(kmeans.cluster_centers_[:,0],kmeans.cluster_centers_[:,1],s=100,c='cyan',label='Centroids')\n",
        "\n",
        "plt.title('Customer Groups')\n",
        "plt.xlabel('Annual Income')\n",
        "plt.ylabel('Spending Score')\n",
        "plt.show()"
      ],
      "metadata": {
        "colab": {
          "base_uri": "https://localhost:8080/",
          "height": 727
        },
        "id": "g_ErvegQdeIF",
        "outputId": "ca322789-e22c-4583-d3c0-dcb432786cd2"
      },
      "execution_count": 256,
      "outputs": [
        {
          "output_type": "display_data",
          "data": {
            "text/plain": [
              "<Figure size 800x800 with 1 Axes>"
            ],
            "image/png": "[encoded data removed]"
          },
          "metadata": {}
        }
      ]
    }
  ]
}